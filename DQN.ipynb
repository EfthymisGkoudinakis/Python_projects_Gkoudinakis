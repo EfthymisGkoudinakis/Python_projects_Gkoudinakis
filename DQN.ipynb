{
 "cells": [
  {
   "cell_type": "markdown",
   "id": "083acbee-63be-446d-9cfc-73c146086bab",
   "metadata": {},
   "source": [
    "### Deep Q Learning from Gerone's book"
   ]
  },
  {
   "cell_type": "code",
   "execution_count": 1,
   "id": "f0dabaff-6a08-44bb-8b93-bdcbbf085cc2",
   "metadata": {},
   "outputs": [],
   "source": [
    "import numpy as np\n",
    "import matplotlib.pyplot as plt\n",
    "import tensorflow as tf                   \n",
    "from tensorflow.keras.models import Sequential\n",
    "from tensorflow.keras.layers import Dense , Flatten , Input\n",
    "from tensorflow.keras.optimizers import Adam\n",
    "import gym\n",
    "import random\n",
    "from collections import deque"
   ]
  },
  {
   "cell_type": "code",
   "execution_count": 2,
   "id": "4d005470-34f6-4e2a-8a46-aba03445224b",
   "metadata": {},
   "outputs": [],
   "source": [
    "env = gym.make('CartPole-v1' , render_mode = 'rgb_array')"
   ]
  },
  {
   "cell_type": "code",
   "execution_count": 3,
   "id": "4df64a76-50f8-4647-a303-2dc4113b2f70",
   "metadata": {},
   "outputs": [],
   "source": [
    "input_shape = env.observation_space.shape\n",
    "n_outputs = env.action_space.n"
   ]
  },
  {
   "cell_type": "code",
   "execution_count": 4,
   "id": "6bc38844-858e-4a31-9c8f-78fa0dc321f6",
   "metadata": {},
   "outputs": [
    {
     "name": "stderr",
     "output_type": "stream",
     "text": [
      "/Users/User/.local/lib/python3.12/site-packages/keras/src/layers/core/dense.py:87: UserWarning: Do not pass an `input_shape`/`input_dim` argument to a layer. When using Sequential models, prefer using an `Input(shape)` object as the first layer in the model instead.\n",
      "  super().__init__(activity_regularizer=activity_regularizer, **kwargs)\n"
     ]
    }
   ],
   "source": [
    "model = tf.keras.Sequential([\n",
    "    tf.keras.layers.Dense(32,activation='elu',input_shape=input_shape),\n",
    "    tf.keras.layers.Dense(32,activation='elu'),\n",
    "    tf.keras.layers.Dense(n_outputs)\n",
    "])"
   ]
  },
  {
   "cell_type": "code",
   "execution_count": 5,
   "id": "ef5cfacb-a29a-453d-bcaa-edcf39b5a4a5",
   "metadata": {},
   "outputs": [],
   "source": [
    "def epsilon_greedy_policy(state,epsilon=0):\n",
    "    if np.random.rand() < epsilon:\n",
    "        return np.random.randint(n_outputs)\n",
    "    else:\n",
    "        Q_values = model.predict(state[np.newaxis],verbose=0)[0]\n",
    "        return Q_values.argmax()"
   ]
  },
  {
   "cell_type": "code",
   "execution_count": 6,
   "id": "a9aee4b5-72ed-4f3c-8237-8125e682cdb6",
   "metadata": {},
   "outputs": [],
   "source": [
    "replay_buffer = deque(maxlen=2000) #double ended queue\n",
    "# store past experiences in a replay memory and sample a random batch at each training iteration\n",
    "# helps reduce the correlations between the experiences in a training batch"
   ]
  },
  {
   "cell_type": "code",
   "execution_count": 7,
   "id": "7d58e02c-3b15-45d0-be99-8ecdc3ed2bd9",
   "metadata": {},
   "outputs": [],
   "source": [
    "# Experience = state, action, resulting reward, next state, done, truncated\n",
    "def sample_experiences(batch_size):\n",
    "    indices = np.random.randint(len(replay_buffer),size=batch_size)\n",
    "    batch = [replay_buffer[index]for index in indices]\n",
    "    return [\n",
    "        np.array([experience[field_index] for experience in batch])\n",
    "        for field_index in range(6)\n",
    "    ]"
   ]
  },
  {
   "cell_type": "code",
   "execution_count": 8,
   "id": "18c94610-2984-4831-86a5-fbda22bbff79",
   "metadata": {},
   "outputs": [],
   "source": [
    "# single step\n",
    "def play_one_step(env,state,epsilon):\n",
    "    action = epsilon_greedy_policy(state,epsilon)\n",
    "    next_state,reward,done,truncated,info = env.step(action)\n",
    "    replay_buffer.append((state,action,reward,next_state,done,truncated))\n",
    "    return next_state,reward,done,truncated,info"
   ]
  },
  {
   "cell_type": "code",
   "execution_count": 9,
   "id": "610b3fe1-c580-495f-a0d1-9f3156a91c14",
   "metadata": {},
   "outputs": [],
   "source": [
    "# training func\n",
    "batch_size = 32\n",
    "discount_factor = 0.95\n",
    "optimizer = tf.keras.optimizers.Nadam(learning_rate=1e-2)\n",
    "loss_fn = tf.keras.losses.MeanSquaredError()\n",
    "\n",
    "def training_step(batch_size):\n",
    "    experiences = sample_experiences(batch_size)\n",
    "    states , actions , rewards , next_states , dones , truncateds = experiences\n",
    "    next_Q_values = model.predict(next_states,verbose=0)\n",
    "    max_next_Q_values = next_Q_values.max(axis=1)\n",
    "    runs = 1.0 - (dones | truncateds)\n",
    "    target_Q_values = rewards + runs * discount_factor * max_next_Q_values\n",
    "    target_Q_values = target_Q_values.reshape(-1,1)\n",
    "    mask = tf.one_hot(actions,n_outputs)\n",
    "    with tf.GradientTape() as tape:\n",
    "        all_Q_values = model(states)\n",
    "        Q_values = tf.reduce_sum(all_Q_values * mask , axis = 1 , keepdims = True)\n",
    "        loss = tf.reduce_mean(loss_fn(target_Q_values,Q_values))\n",
    "    grads = tape.gradient(loss , model.trainable_variables)\n",
    "    optimizer.apply_gradients(zip(grads,model.trainable_variables))"
   ]
  },
  {
   "cell_type": "code",
   "execution_count": 12,
   "id": "524cf2c9-0137-48a3-ae0a-51907d4b10ee",
   "metadata": {
    "scrolled": true
   },
   "outputs": [
    {
     "name": "stdout",
     "output_type": "stream",
     "text": [
      "Episode 0\n",
      "Episode 1\n",
      "Episode 2\n",
      "Episode 3\n",
      "Episode 4\n",
      "Episode 5\n",
      "Episode 6\n",
      "Episode 7\n",
      "Episode 8\n",
      "Episode 9\n",
      "Episode 10\n",
      "Episode 11\n",
      "Episode 12\n",
      "Episode 13\n",
      "Episode 14\n",
      "Episode 15\n",
      "Episode 16\n",
      "Episode 17\n",
      "Episode 18\n",
      "Episode 19\n",
      "Episode 20\n",
      "Episode 21\n",
      "Episode 22\n",
      "Episode 23\n",
      "Episode 24\n",
      "Episode 25\n",
      "Episode 26\n",
      "Episode 27\n",
      "Episode 28\n",
      "Episode 29\n",
      "Episode 30\n",
      "Episode 31\n",
      "Episode 32\n",
      "Episode 33\n",
      "Episode 34\n",
      "Episode 35\n",
      "Episode 36\n",
      "Episode 37\n",
      "Episode 38\n",
      "Episode 39\n",
      "Episode 40\n",
      "Episode 41\n",
      "Episode 42\n",
      "Episode 43\n",
      "Episode 44\n",
      "Episode 45\n",
      "Episode 46\n",
      "Episode 47\n",
      "Episode 48\n",
      "Episode 49\n",
      "Episode 50\n",
      "Episode 51\n",
      "Episode 52\n",
      "Episode 53\n",
      "Episode 54\n",
      "Episode 55\n",
      "Episode 56\n",
      "Episode 57\n",
      "Episode 58\n",
      "Episode 59\n",
      "Episode 60\n",
      "Episode 61\n",
      "Episode 62\n",
      "Episode 63\n",
      "Episode 64\n",
      "Episode 65\n",
      "Episode 66\n",
      "Episode 67\n",
      "Episode 68\n",
      "Episode 69\n",
      "Episode 70\n",
      "Episode 71\n",
      "Episode 72\n",
      "Episode 73\n",
      "Episode 74\n",
      "Episode 75\n",
      "Episode 76\n",
      "Episode 77\n",
      "Episode 78\n",
      "Episode 79\n",
      "Episode 80\n",
      "Episode 81\n",
      "Episode 82\n",
      "Episode 83\n",
      "Episode 84\n",
      "Episode 85\n",
      "Episode 86\n",
      "Episode 87\n",
      "Episode 88\n",
      "Episode 89\n",
      "Episode 90\n",
      "Episode 91\n",
      "Episode 92\n",
      "Episode 93\n",
      "Episode 94\n",
      "Episode 95\n",
      "Episode 96\n",
      "Episode 97\n",
      "Episode 98\n",
      "Episode 99\n",
      "Episode 100\n",
      "Episode 101\n",
      "Episode 102\n",
      "Episode 103\n",
      "Episode 104\n",
      "Episode 105\n",
      "Episode 106\n",
      "Episode 107\n",
      "Episode 108\n",
      "Episode 109\n",
      "Episode 110\n",
      "Episode 111\n",
      "Episode 112\n",
      "Episode 113\n",
      "Episode 114\n",
      "Episode 115\n",
      "Episode 116\n",
      "Episode 117\n",
      "Episode 118\n",
      "Episode 119\n",
      "Episode 120\n",
      "Episode 121\n",
      "Episode 122\n",
      "Episode 123\n",
      "Episode 124\n",
      "Episode 125\n",
      "Episode 126\n",
      "Episode 127\n",
      "Episode 128\n",
      "Episode 129\n",
      "Episode 130\n",
      "Episode 131\n",
      "Episode 132\n",
      "Episode 133\n",
      "Episode 134\n",
      "Episode 135\n",
      "Episode 136\n",
      "Episode 137\n",
      "Episode 138\n",
      "Episode 139\n",
      "Episode 140\n",
      "Episode 141\n",
      "Episode 142\n",
      "Episode 143\n",
      "Episode 144\n",
      "Episode 145\n",
      "Episode 146\n",
      "Episode 147\n",
      "Episode 148\n",
      "Episode 149\n",
      "Episode 150\n",
      "Episode 151\n",
      "Episode 152\n",
      "Episode 153\n",
      "Episode 154\n",
      "Episode 155\n",
      "Episode 156\n",
      "Episode 157\n",
      "Episode 158\n",
      "Episode 159\n",
      "Episode 160\n",
      "Episode 161\n",
      "Episode 162\n",
      "Episode 163\n",
      "Episode 164\n",
      "Episode 165\n",
      "Episode 166\n",
      "Episode 167\n",
      "Episode 168\n",
      "Episode 169\n",
      "Episode 170\n",
      "Episode 171\n",
      "Episode 172\n",
      "Episode 173\n",
      "Episode 174\n",
      "Episode 175\n",
      "Episode 176\n",
      "Episode 177\n",
      "Episode 178\n",
      "Episode 179\n",
      "Episode 180\n",
      "Episode 181\n",
      "Episode 182\n",
      "Episode 183\n",
      "Episode 184\n",
      "Episode 185\n",
      "Episode 186\n",
      "Episode 187\n",
      "Episode 188\n",
      "Episode 189\n",
      "Episode 190\n",
      "Episode 191\n",
      "Episode 192\n",
      "Episode 193\n",
      "Episode 194\n",
      "Episode 195\n",
      "Episode 196\n",
      "Episode 197\n",
      "Episode 198\n",
      "Episode 199\n"
     ]
    }
   ],
   "source": [
    "# training\n",
    "episodes = 200\n",
    "Rs = []\n",
    "for episode in range(episodes):\n",
    "    print(f'Episode {episode}')\n",
    "    rewards_of_episode = 0\n",
    "    obs , info = env.reset()\n",
    "    for step in range(200):\n",
    "        epsilon = max(1 - episode/episodes , 0.01)\n",
    "        obs , reward , done , truncated , info = play_one_step(env , obs , epsilon)\n",
    "        rewards_of_episode += reward\n",
    "        if done or truncated:\n",
    "            break\n",
    "    Rs.append(rewards_of_episode)\n",
    "    if episode > 50:\n",
    "        training_step(batch_size)"
   ]
  },
  {
   "cell_type": "code",
   "execution_count": 19,
   "id": "580bfd67-195f-4b23-aa15-a662cac727bd",
   "metadata": {},
   "outputs": [
    {
     "data": {
      "image/png": "[encoded data removed]",
      "text/plain": [
       "<Figure size 640x480 with 1 Axes>"
      ]
     },
     "metadata": {},
     "output_type": "display_data"
    },
    {
     "data": {
      "text/plain": [
       "(188.54, 10.684961394408498)"
      ]
     },
     "execution_count": 19,
     "metadata": {},
     "output_type": "execute_result"
    }
   ],
   "source": [
    "plt.plot(Rs)\n",
    "plt.ylabel('sum of Rewards')\n",
    "plt.xlabel(episodes)\n",
    "plt.grid()\n",
    "plt.show()\n",
    "np.mean(Rs[150:]), np.std(Rs[150:])"
   ]
  },
  {
   "cell_type": "code",
   "execution_count": 1,
   "id": "b43e0390-c418-4fb9-86a7-60739b8d0c75",
   "metadata": {},
   "outputs": [],
   "source": [
    "# EOF"
   ]
  }
 ],
 "metadata": {
  "kernelspec": {
   "display_name": "Python 3 (ipykernel)",
   "language": "python",
   "name": "python3"
  },
  "language_info": {
   "codemirror_mode": {
    "name": "ipython",
    "version": 3
   },
   "file_extension": ".py",
   "mimetype": "text/x-python",
   "name": "python",
   "nbconvert_exporter": "python",
   "pygments_lexer": "ipython3",
   "version": "3.12.7"
  }
 },
 "nbformat": 4,
 "nbformat_minor": 5
}
