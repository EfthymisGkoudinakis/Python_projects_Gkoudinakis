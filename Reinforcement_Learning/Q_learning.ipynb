{
 "cells": [
  {
   "cell_type": "markdown",
   "id": "b8a8368c-515f-4135-b338-e939c9b9f1c7",
   "metadata": {},
   "source": [
    "### Q-Learning Tutorial in Python - Reinforcement Learning (@youtube)\n",
    "### I just followed the guy's instructions"
   ]
  },
  {
   "cell_type": "code",
   "execution_count": 1,
   "id": "4d4482e3-13e1-4684-95e9-7c7ad1d333a5",
   "metadata": {},
   "outputs": [],
   "source": [
    "import numpy as np\n",
    "import matplotlib.pyplot as plt\n",
    "import tensorflow as tf                   \n",
    "from tensorflow.keras.models import Sequential\n",
    "from tensorflow.keras.layers import Dense , Flatten , Input\n",
    "from tensorflow.keras.optimizers import Adam\n",
    "import gym\n",
    "import random"
   ]
  },
  {
   "cell_type": "code",
   "execution_count": 2,
   "id": "10cf79cf-d418-46ab-afa2-64bc907b9a95",
   "metadata": {},
   "outputs": [],
   "source": [
    "#environment\n",
    "env = gym.make('Taxi-v3' )#, render_mode = 'human')"
   ]
  },
  {
   "cell_type": "code",
   "execution_count": 3,
   "id": "e225c808-8426-42a3-b5d7-a983e02da3c6",
   "metadata": {},
   "outputs": [],
   "source": [
    "# parameters\n",
    "\n",
    "alpha = 0.8   # how fast new info overrides old (0,1) 1 is best\n",
    "gamma = 0.9 # determines the importance of long term rewards (0,1) 1=super important\n",
    "epsilon = 0.1 # randomness of motion - start fully randomly\n",
    "epsilon_decay = 0.01\n",
    "min_epsilon = 0.01\n",
    "episodes = 1000\n",
    "max_steps = 100"
   ]
  },
  {
   "cell_type": "code",
   "execution_count": 4,
   "id": "3a4c20ba-d3f5-4b74-9e75-3d56ba918ab9",
   "metadata": {},
   "outputs": [],
   "source": [
    "# Q\n",
    "obs_space_n = env.observation_space.n # 500 = (5x5 grid) x (5 customer locations) x (4 hotel locations)\n",
    "actions = env.action_space.n # 6 actions of taxi\n",
    "\n",
    "q_table = np.zeros((obs_space_n,actions))"
   ]
  },
  {
   "cell_type": "code",
   "execution_count": 5,
   "id": "20462298-8645-4529-922e-3d5f855f2369",
   "metadata": {},
   "outputs": [],
   "source": [
    "def choose_action(state):\n",
    "    if random.uniform(0,1) < epsilon:\n",
    "        return env.action_space.sample()\n",
    "    else:\n",
    "        return np.argmax(q_table[state,:])"
   ]
  },
  {
   "cell_type": "code",
   "execution_count": 6,
   "id": "941aca1c-83c6-4c2e-9354-e323ac3dbe2a",
   "metadata": {},
   "outputs": [
    {
     "name": "stderr",
     "output_type": "stream",
     "text": [
      "/Users/User/.local/lib/python3.12/site-packages/gym/utils/passive_env_checker.py:233: DeprecationWarning: `np.bool8` is a deprecated alias for `np.bool_`.  (Deprecated NumPy 1.24)\n",
      "  if not isinstance(terminated, (bool, np.bool8)):\n"
     ]
    }
   ],
   "source": [
    "# training loop\n",
    "\n",
    "for episode in range(episodes):\n",
    "    state , _ = env.reset()\n",
    "    done = False\n",
    "    for step in range(max_steps):\n",
    "        \n",
    "        action = choose_action(state)\n",
    "        next_state , reward , done , truncated , info = env.step(action)\n",
    "\n",
    "        old_value = q_table[state,action]\n",
    "        next_max = np.max(q_table[next_state , :])\n",
    "\n",
    "        q_table[state,action] = (1-alpha)* old_value + alpha * (reward + gamma * next_max)\n",
    "\n",
    "        state = next_state\n",
    "\n",
    "        if done or truncated:\n",
    "            break\n",
    "\n",
    "    epsilon = max(min_epsilon , epsilon * epsilon_decay)\n",
    "\n",
    "\n",
    "env.close()\n"
   ]
  },
  {
   "cell_type": "code",
   "execution_count": 7,
   "id": "64019ba0-7196-4948-9c9b-9ce1c5d9f719",
   "metadata": {},
   "outputs": [
    {
     "name": "stdout",
     "output_type": "stream",
     "text": [
      "Episode 0\n",
      "Finished episode 0 with reward 20\n",
      "Episode 1\n",
      "Finished episode 1 with reward 20\n",
      "Episode 2\n",
      "Finished episode 2 with reward 20\n",
      "Episode 3\n",
      "Finished episode 3 with reward 20\n",
      "Episode 4\n",
      "Finished episode 4 with reward 20\n"
     ]
    }
   ],
   "source": [
    "# see results\n",
    "\n",
    "env = gym.make('Taxi-v3' , render_mode = 'human')\n",
    "\n",
    "for episode in range(5):\n",
    "    state , _ = env.reset()\n",
    "    done = False\n",
    "\n",
    "    print('Episode', episode)\n",
    "\n",
    "    for step in range(max_steps):\n",
    "        env.render()\n",
    "        action = np.argmax(q_table[state,:])\n",
    "        next_state , reward ,done,truncated,info = env.step(action)\n",
    "        state = next_state\n",
    "\n",
    "        if done or truncated:\n",
    "            env.render()\n",
    "            print('Finished episode', episode, 'with reward', reward)\n",
    "            break\n",
    "\n",
    "env.close()"
   ]
  },
  {
   "cell_type": "markdown",
   "id": "a49d8f93-c1e0-4013-b57f-6c6dc76cd290",
   "metadata": {},
   "source": [
    "### EOF"
   ]
  }
 ],
 "metadata": {
  "kernelspec": {
   "display_name": "Python 3 (ipykernel)",
   "language": "python",
   "name": "python3"
  },
  "language_info": {
   "codemirror_mode": {
    "name": "ipython",
    "version": 3
   },
   "file_extension": ".py",
   "mimetype": "text/x-python",
   "name": "python",
   "nbconvert_exporter": "python",
   "pygments_lexer": "ipython3",
   "version": "3.12.7"
  }
 },
 "nbformat": 4,
 "nbformat_minor": 5
}
